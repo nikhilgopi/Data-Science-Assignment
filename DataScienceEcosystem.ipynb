{
 "cells": [
  {
   "cell_type": "markdown",
   "id": "5b9c1295-ede3-46a2-91c6-f09997fad2b7",
   "metadata": {},
   "source": [
    "# Data Science Tools and Ecosystem"
   ]
  },
  {
   "cell_type": "markdown",
   "id": "9990f145-2f4c-4f17-8ac2-edd889eedcf6",
   "metadata": {},
   "source": [
    "In this notebook, Data Science Tools and Ecosystem are summerized."
   ]
  },
  {
   "cell_type": "markdown",
   "id": "499d9636-29a6-43c9-8b99-6819e7a24030",
   "metadata": {},
   "source": [
    "**Objectives:**\n",
    "\n",
    "- Understand what Data Science is and why it's important  \n",
    "- List popular programming languages used in Data Science  \n",
    "- Learn how to format and style Markdown cells in Jupyter Notebook  \n",
    "- Create tables and bullet point lists using Markdown  \n",
    "- Identify common tools and environments used in Data Science  \n"
   ]
  },
  {
   "cell_type": "markdown",
   "id": "9c09d7f9-b1ae-4606-8461-f8826c5d1266",
   "metadata": {},
   "source": [
    "Some of the popular languages that Data Scientists use are:\n"
   ]
  },
  {
   "cell_type": "markdown",
   "id": "304db06b-2e32-4e6e-85a5-bdaef3a4e1c4",
   "metadata": {},
   "source": [
    "1. Python\n",
    "2. SQL\n",
    "3. R\n",
    "4. Java"
   ]
  },
  {
   "cell_type": "markdown",
   "id": "240a5446-2aa5-4945-8f4f-37298fbb313e",
   "metadata": {},
   "source": [
    "Some of the commonly used libraries used by Data Scientists include:"
   ]
  },
  {
   "cell_type": "markdown",
   "id": "607bb83c-7f1f-42fa-a612-d4c9696223b0",
   "metadata": {},
   "source": [
    "1. Numpy\n",
    "2. Pandas\n",
    "3. Matplotlib\n",
    "4. Seaborn\n",
    "5. Plotly\n",
    "6. Sciekit-Learn"
   ]
  },
  {
   "cell_type": "markdown",
   "id": "d332759f-0bae-4fda-a41a-e3a6032e2c71",
   "metadata": {},
   "source": [
    "| Data Science Tools       |\n",
    "|--------------------------|\n",
    "| Jupyter Notebook         |\n",
    "| RStudio                  |\n",
    "| Visual Studio Code (VSCode) |\n",
    "| Apache Spark |\n",
    "| Matplotlib |\n",
    "| NumPy |\n",
    "| Pandas |\n",
    "| Matlab |"
   ]
  },
  {
   "cell_type": "markdown",
   "id": "00ec7bc0-18e7-44e1-9de1-229b504daad1",
   "metadata": {},
   "source": [
    "### Below are a few examples of evaluating arithmetic expressions in Python"
   ]
  },
  {
   "cell_type": "code",
   "execution_count": 5,
   "id": "e573b0c0-c50c-4c52-9169-5adb1cf40f78",
   "metadata": {},
   "outputs": [],
   "source": [
    "# This a simple arithmetic expression to multiply then add integers."
   ]
  },
  {
   "cell_type": "code",
   "execution_count": 6,
   "id": "c619f1ab-860c-439d-be5d-740a1bda7aed",
   "metadata": {},
   "outputs": [
    {
     "data": {
      "text/plain": [
       "17"
      ]
     },
     "execution_count": 6,
     "metadata": {},
     "output_type": "execute_result"
    }
   ],
   "source": [
    "(3*4)+5"
   ]
  },
  {
   "cell_type": "code",
   "execution_count": 7,
   "id": "05820747-0ee4-4329-98f0-7eef86a2f6b0",
   "metadata": {},
   "outputs": [],
   "source": [
    "# This will convert 200 min us to hours by dividing by 60"
   ]
  },
  {
   "cell_type": "code",
   "execution_count": 26,
   "id": "61ead2a4-1e35-43ff-b704-94f0b0571010",
   "metadata": {},
   "outputs": [
    {
     "name": "stdout",
     "output_type": "stream",
     "text": [
      "3 hours 20 minutes\n"
     ]
    }
   ],
   "source": [
    "minutes= 200\n",
    "hours = 200//60\n",
    "remaining_minutes = 200%60\n",
    "print(hours, \"hours\", remaining_minutes, \"minutes\")"
   ]
  },
  {
   "cell_type": "markdown",
   "id": "7dbf31d0-f80d-4d45-a971-673cb5848028",
   "metadata": {},
   "source": [
    "## Author\n",
    "NIKHIL GOPI"
   ]
  },
  {
   "cell_type": "code",
   "execution_count": null,
   "id": "9a756143-a43c-49c2-a396-1a6f05c58531",
   "metadata": {},
   "outputs": [],
   "source": []
  }
 ],
 "metadata": {
  "kernelspec": {
   "display_name": "Python 3 (ipykernel)",
   "language": "python",
   "name": "python3"
  },
  "language_info": {
   "codemirror_mode": {
    "name": "ipython",
    "version": 3
   },
   "file_extension": ".py",
   "mimetype": "text/x-python",
   "name": "python",
   "nbconvert_exporter": "python",
   "pygments_lexer": "ipython3",
   "version": "3.13.5"
  }
 },
 "nbformat": 4,
 "nbformat_minor": 5
}
